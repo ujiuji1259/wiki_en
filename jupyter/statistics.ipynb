{
 "cells": [
  {
   "cell_type": "code",
   "execution_count": 16,
   "metadata": {},
   "outputs": [
    {
     "name": "stdout",
     "output_type": "stream",
     "text": [
      "{'id': '617718', 'title': '!!!', 'description': '!!!（チック・チック・チック）はアメリカ合衆国のロックバンドである。'}\n",
      "1136321 1136335 1136321\n"
     ]
    }
   ],
   "source": [
    "# wikiextractor vs index\n",
    "\n",
    "import json\n",
    "\n",
    "page_id_set = set()\n",
    "with open('/data1/ujiie/wiki_resource/id_title_description.jsonl', 'r') as f:\n",
    "    for line in f:\n",
    "        line = line.rstrip()\n",
    "        if not line:\n",
    "            continue\n",
    "            \n",
    "        line = json.loads(line)\n",
    "        if line['id'] == '625023':\n",
    "            print(line)\n",
    "        page_id_set.add(int(line['id']))\n",
    "        \n",
    "index_pageid_set = set()\n",
    "cnt = 0\n",
    "with open('/data1/ujiie/WikiDump/jawiki-20190120-title2pageid.json', 'r') as f:\n",
    "    for line in f:\n",
    "        line = line.rstrip()\n",
    "        if not line:\n",
    "            continue\n",
    "            \n",
    "        line = json.loads(line)\n",
    "        if not line['is_redirect']:\n",
    "            index_pageid_set.add(line['page_id'])\n",
    "            cnt += int(line['page_id'] in page_id_set)\n",
    "\n",
    "print(cnt, len(index_pageid_set), len(page_id_set))"
   ]
  },
  {
   "cell_type": "code",
   "execution_count": 15,
   "metadata": {},
   "outputs": [
    {
     "name": "stdout",
     "output_type": "stream",
     "text": [
      "[3894464, 3894465, 3894438, 3894444, 3894445, 3894449, 3894450, 3894451, 3894452, 3894454, 3894457, 3894458, 3894461, 3894463]\n"
     ]
    }
   ],
   "source": [
    "unclear = index_pageid_set - page_id_set\n",
    "print(list(unclear))"
   ]
  },
  {
   "cell_type": "code",
   "execution_count": 21,
   "metadata": {},
   "outputs": [
    {
     "data": {
      "text/plain": [
       "True"
      ]
     },
     "execution_count": 21,
     "metadata": {},
     "output_type": "execute_result"
    }
   ],
   "source": [
    "3894435 in page_id_set"
   ]
  },
  {
   "cell_type": "code",
   "execution_count": null,
   "metadata": {},
   "outputs": [],
   "source": []
  }
 ],
 "metadata": {
  "kernelspec": {
   "display_name": "Python 3",
   "language": "python",
   "name": "python3"
  },
  "language_info": {
   "codemirror_mode": {
    "name": "ipython",
    "version": 3
   },
   "file_extension": ".py",
   "mimetype": "text/x-python",
   "name": "python",
   "nbconvert_exporter": "python",
   "pygments_lexer": "ipython3",
   "version": "3.7.4"
  }
 },
 "nbformat": 4,
 "nbformat_minor": 2
}
