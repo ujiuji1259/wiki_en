{
 "cells": [
  {
   "cell_type": "code",
   "execution_count": 16,
   "metadata": {},
   "outputs": [],
   "source": [
    "import json\n",
    "import pickle\n",
    "import random\n",
    "\n",
    "class CandidateDataset(object):\n",
    "    def __init__(self, input_file, tokenizer, max_desc_len=50, preprocessed=False):\n",
    "        self.tokenizer = tokenizer\n",
    "        self.max_title_len = 0\n",
    "        self.max_desc_len = 0\n",
    "        self.data = self._read(input_file, preprocessed)\n",
    "        \n",
    "    def save_preprocessed_data(self, fn):\n",
    "        with open(fn, 'wb') as f:\n",
    "            pickle.dump(self.data, f)\n",
    "        \n",
    "    def _preprocess(self, title, description):\n",
    "        title = self.tokenizer.tokenize(title)\n",
    "        description = self.tokenizer.tokenize(description)\n",
    "        \n",
    "        if len(title) > self.max_title_len:\n",
    "            self.max_title_len = len(title)\n",
    "        if len(description) > self.max_desc_len:\n",
    "            self.max_desc_len = len(description)\n",
    "        \n",
    "        title = self.tokenizer.convert_tokens_to_ids(title)\n",
    "        description = self.tokenizer.convert_tokens_to_ids(description)\n",
    "        return title, description\n",
    "        \n",
    "    def _read(self, fn, preprocessed=False):\n",
    "        data = {}\n",
    "        if preprocessed:\n",
    "            with open(fn, 'rb') as f:\n",
    "                data = pickle.load(f)\n",
    "            return data\n",
    "        \n",
    "        with open(fn, 'r') as f:\n",
    "            for line in f:\n",
    "                line = line.rstrip()\n",
    "                if not line:\n",
    "                    continue\n",
    "                    \n",
    "                line = json.loads(line)\n",
    "                title, desc = self._preprocess(line['title'], line['description'])\n",
    "                data[int(line['id'])] = {\n",
    "                    \"title\": line['title'], \n",
    "                    \"description\": line['description'], \n",
    "                    'title_ids': title, \n",
    "                    'description_ids': desc\n",
    "                }\n",
    "                \n",
    "        return data\n",
    "    \n",
    "    def get_page(self, page_ids, max_title_len=50, max_desc_len=100):\n",
    "        input_seq =  [self.data[page_id]['input_seq'] for page_id in page_ids]\n",
    "        input_seq = [['[CLS]'] + d['title_ids'][:max_title_len] + ['[SEP]'] + d['description_ids'][:max_desc_len] + ['[SEP]'] for d in input_seq]\n",
    "        input_seq = [self.tokenizer.convert_tokens_to_ids(d) for d in input_seq]\n",
    "        \n",
    "        return input_seq\n",
    "        \n",
    "\n",
    "class MentionDataset(object):\n",
    "    def __init__(self, input_file, tokenizer):\n",
    "        self.input_file = input_file\n",
    "        self.tokenizer = tokenizer\n",
    "    \n",
    "    def _preprocess(self, line, max_ctxt_len=32):\n",
    "        left_ctxt = self.tokenizer.tokenize(line['left_context'])\n",
    "        mention_tokens = self.tokenizer.tokenize(line['mention'])\n",
    "        right_ctxt = self.tokenizer.tokenize(line['right_context'])\n",
    "        \n",
    "        input_seq = ['[CLS]'] + left_ctxt[-max_ctxt_len:] + ['[M]'] + mention_tokens + ['[/M]'] + right_ctxt[:max_ctxt_len] + ['[SEP]']\n",
    "        input_seq = self.tokenizer.convert_tokens_to_ids(input_seq)\n",
    "        input_label = line['linkpage_id']\n",
    "        return input_seq, input_label\n",
    "    \n",
    "    def batch(self, batch_size=16, random_bsz=100000, max_ctxt_len=32):\n",
    "        batch_input, batch_labels = [], []\n",
    "        with open(self.input_file, 'r') as f:\n",
    "            for line in f:\n",
    "                if len(batch_input) >= random_bsz:\n",
    "                    random_idx = [i for i in range(len(batch_input))]\n",
    "                    random.shuffle(random_idx)\n",
    "                    \n",
    "                    for batch_idx in range(0, len(batch_input), batch_size):\n",
    "                        end_batch_idx = min(batch_idx+batch_size, len(batch_input)+1)\n",
    "                        inbatch_input = [batch_input[random_idx[i]] for i in range(batch_idx, end_batch_idx)]\n",
    "                        inbatch_labels = [batch_labels[random_idx[i]] for i in range(batch_idx, end_batch_idx)]\n",
    "                    \n",
    "                        yield inbatch_input, inbatch_labels\n",
    "                    batch_input, batch_labels = [], []\n",
    "                    \n",
    "                line = line.rstrip()\n",
    "                if not line:\n",
    "                    continue\n",
    "                line = json.loads(line)\n",
    "                \n",
    "                ids, labels = self._preprocess(line)\n",
    "                batch_input.append(ids)\n",
    "                batch_labels.append(labels)\n",
    "\n",
    "                \n",
    "            if len(batch_input) > 0:\n",
    "                random_idx = [i for i in range(len(batch_input))]\n",
    "                random.shuffle(random_idx)\n",
    "                    \n",
    "                for batch_idx in range(0, len(batch_input), batch_size):\n",
    "                    end_batch_idx = min(batch_idx+batch_size, len(batch_input)+1)\n",
    "                    inbatch_input = [batch_input[random_idx[i]] for i in range(batch_idx, end_batch_idx)]\n",
    "                    inbatch_labels = [batch_labels[random_idx[i]] for i in range(batch_idx, end_batch_idx)]\n",
    "                    \n",
    "                    yield inbatch_input, inbatch_labels"
   ]
  },
  {
   "cell_type": "code",
   "execution_count": 2,
   "metadata": {},
   "outputs": [],
   "source": [
    "from transformers import AutoTokenizer\n",
    "\n",
    "tokenizer = AutoTokenizer.from_pretrained('cl-tohoku/bert-base-japanese')\n",
    "tokenizer.add_special_tokens({\"additional_special_tokens\": [\"[M]\", \"[/M]\"]})\n",
    "\n",
    "dataset = MentionDataset('/data1/ujiie/wiki_resource/training_data.jsonl', tokenizer)"
   ]
  },
  {
   "cell_type": "code",
   "execution_count": 17,
   "metadata": {},
   "outputs": [],
   "source": [
    "from transformers import AutoTokenizer\n",
    "\n",
    "tokenizer = AutoTokenizer.from_pretrained('cl-tohoku/bert-base-japanese')\n",
    "\n",
    "dataset = CandidateDataset('/data1/ujiie/wiki_resource/id_title_description.jsonl', tokenizer)\n",
    "#dataset = CandidateDataset('/data1/ujiie/wiki_resource/pages_preprocessed_for_bert-base-japanese.pkl', tokenizer, preprocessed=True)\n",
    "dataset.save_preprocessed_data('/data1/ujiie/wiki_resource/pages_preprocessed_for_bert-base-japanese.pkl')\n",
    "#print(len(dataset.data[0])) "
   ]
  },
  {
   "cell_type": "code",
   "execution_count": 4,
   "metadata": {},
   "outputs": [],
   "source": [
    "titles = [d['title_ids'] for d in dataset.data.values()]\n",
    "desc = [d['description_ids'] for d in dataset.data.values()]"
   ]
  },
  {
   "cell_type": "code",
   "execution_count": 13,
   "metadata": {},
   "outputs": [
    {
     "data": {
      "text/plain": [
       "(5383, 1136321)"
      ]
     },
     "execution_count": 13,
     "metadata": {},
     "output_type": "execute_result"
    }
   ],
   "source": [
    "t = [''.join(tokenizer.convert_ids_to_tokens(d)) for d in desc if len(d) > 200]\n",
    "len(t), len(titles)"
   ]
  },
  {
   "cell_type": "code",
   "execution_count": 16,
   "metadata": {},
   "outputs": [
    {
     "data": {
      "image/png": "[encoded data removed]",
      "text/plain": [
       "<Figure size 432x288 with 1 Axes>"
      ]
     },
     "metadata": {
      "needs_background": "light"
     },
     "output_type": "display_data"
    }
   ],
   "source": [
    "import numpy as np\n",
    "import matplotlib.pyplot as plt\n",
    "\n",
    "t = np.array([len(t) for t in titles])\n",
    "plt.hist(t, bins=20)\n",
    "plt.show()"
   ]
  },
  {
   "cell_type": "code",
   "execution_count": 17,
   "metadata": {},
   "outputs": [
    {
     "data": {
      "image/png": "[encoded data removed]",
      "text/plain": [
       "<Figure size 432x288 with 1 Axes>"
      ]
     },
     "metadata": {
      "needs_background": "light"
     },
     "output_type": "display_data"
    }
   ],
   "source": [
    "import numpy as np\n",
    "import matplotlib.pyplot as plt\n",
    "\n",
    "t = np.array([len(t) for t in desc])\n",
    "plt.hist(t, bins=20)\n",
    "plt.show()"
   ]
  },
  {
   "cell_type": "code",
   "execution_count": null,
   "metadata": {},
   "outputs": [
    {
     "data": {
      "application/vnd.jupyter.widget-view+json": {
       "model_id": "376e34dca5a14add820e8ed0ae750358",
       "version_major": 2,
       "version_minor": 0
      },
      "text/plain": [
       "HBox(children=(IntProgress(value=0, max=21959869), HTML(value='')))"
      ]
     },
     "metadata": {},
     "output_type": "display_data"
    }
   ],
   "source": [
    "# preprocess mention dataset\n",
    "import json\n",
    "import numpy as np\n",
    "\n",
    "from tqdm import tqdm_notebook as tqdm\n",
    "from transformers import AutoTokenizer\n",
    "\n",
    "tokenizer = AutoTokenizer.from_pretrained('cl-tohoku/bert-base-japanese')\n",
    "\n",
    "index = [0]\n",
    "\n",
    "with open('/data1/ujiie/wiki_resource/training_data.jsonl', 'r') as f:\n",
    "    with open('/data1/ujiie/wiki_resource/training_data_preprocessd_for_bert-base-japanese.jsonl', 'w') as fout:\n",
    "        bar = tqdm(total=21959869)\n",
    "        for line in f:\n",
    "            line = line.rstrip()\n",
    "            if not line:\n",
    "                continue\n",
    "            line = json.loads(line)\n",
    "\n",
    "            line['left_ctxt_tokens'] = tokenizer.tokenize(line['left_context'])\n",
    "            line['right_ctxt_tokens'] = tokenizer.tokenize(line['right_context'])\n",
    "            line['mention_tokens'] = tokenizer.tokenize(line['mention'])\n",
    "            output = json.dumps(line) + '\\n'\n",
    "            index.append(index[-1] + len(output))\n",
    "            #index = np.append(index, index[-1] + len(output))\n",
    "            fout.write(output)\n",
    "            bar.update(1)\n",
    "index = np.array(index)        \n",
    "np.save('/data1/ujiie/wiki_resource/training_data_preprocessd_for_bert-base-japanese_index.npy', index)"
   ]
  },
  {
   "cell_type": "code",
   "execution_count": null,
   "metadata": {},
   "outputs": [],
   "source": []
  }
 ],
 "metadata": {
  "kernelspec": {
   "display_name": "Python 3",
   "language": "python",
   "name": "python3"
  },
  "language_info": {
   "codemirror_mode": {
    "name": "ipython",
    "version": 3
   },
   "file_extension": ".py",
   "mimetype": "text/x-python",
   "name": "python",
   "nbconvert_exporter": "python",
   "pygments_lexer": "ipython3",
   "version": "3.7.4"
  }
 },
 "nbformat": 4,
 "nbformat_minor": 2
}
