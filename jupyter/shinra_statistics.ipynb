{
 "cells": [
  {
   "cell_type": "code",
   "execution_count": 15,
   "metadata": {},
   "outputs": [],
   "source": [
    "import sys\n",
    "sys.path.append(\"/home/is/ujiie/wiki_en/src/bl_bert_biencoder\")\n",
    "sys.path.append(\"/home/is/ujiie/wiki_en/src\")\n",
    "\n",
    "from dataloader import ShinraDataset, MentionDataset, my_collate_fn"
   ]
  },
  {
   "cell_type": "code",
   "execution_count": 4,
   "metadata": {},
   "outputs": [],
   "source": [
    "mention_path = \"/data1/ujiie/wiki_resource/training_data_preprocessd_for_bert-base-japanese.jsonl\"\n",
    "mention_index_path = \"/data1/ujiie/wiki_resource/training_data_preprocessd_for_bert-base-japanese_index.npy\""
   ]
  },
  {
   "cell_type": "code",
   "execution_count": 7,
   "metadata": {},
   "outputs": [],
   "source": [
    "from transformers import AutoTokenizer, AutoModel\n",
    "import numpy as np\n",
    "mention_tokenizer = AutoTokenizer.from_pretrained(\"cl-tohoku/bert-base-japanese\")\n",
    "mention_tokenizer.add_special_tokens({\"additional_special_tokens\": [\"[M]\", \"[/M]\"]})\n",
    "index = np.load(mention_index_path)"
   ]
  },
  {
   "cell_type": "code",
   "execution_count": 11,
   "metadata": {},
   "outputs": [],
   "source": [
    "mention_dataset = MentionDataset(mention_path, index, mention_tokenizer, preprocessed=True)"
   ]
  },
  {
   "cell_type": "code",
   "execution_count": null,
   "metadata": {},
   "outputs": [
    {
     "data": {
      "application/vnd.jupyter.widget-view+json": {
       "model_id": "9c7712f1e68541bcbbc6ccf64f6ce7f8",
       "version_major": 2,
       "version_minor": 0
      },
      "text/plain": [
       "HBox(children=(IntProgress(value=0, max=1365762), HTML(value='')))"
      ]
     },
     "metadata": {},
     "output_type": "display_data"
    }
   ],
   "source": [
    "from torch.utils.data import DataLoader\n",
    "from collections import Counter\n",
    "from tqdm.notebook import tqdm\n",
    "\n",
    "a = Counter()\n",
    "dataloader = DataLoader(mention_dataset, batch_size=16, collate_fn=my_collate_fn)\n",
    "for input_ids, labels in tqdm(dataloader):\n",
    "    a.update(labels)"
   ]
  },
  {
   "cell_type": "code",
   "execution_count": 21,
   "metadata": {},
   "outputs": [
    {
     "data": {
      "text/plain": [
       "Counter({'17432': 1,\n",
       "         '6932': 1,\n",
       "         '90949': 1,\n",
       "         '1848349': 1,\n",
       "         '16771': 1,\n",
       "         '13663': 1,\n",
       "         '18665': 1,\n",
       "         '2860395': 1,\n",
       "         '371198': 1,\n",
       "         '69': 1,\n",
       "         '1022': 1,\n",
       "         '34108': 1,\n",
       "         '3558': 1,\n",
       "         '1487': 1,\n",
       "         '225994': 1,\n",
       "         '2454': 1,\n",
       "         '12099': 1,\n",
       "         '1997': 1,\n",
       "         '1690': 1,\n",
       "         '9793': 1,\n",
       "         '1785812': 1,\n",
       "         '68': 3,\n",
       "         '64': 3,\n",
       "         '159': 1,\n",
       "         '840848': 1,\n",
       "         '8639': 1,\n",
       "         '58079': 1,\n",
       "         '7442': 1,\n",
       "         '3041': 1,\n",
       "         '409381': 1,\n",
       "         '49215': 1,\n",
       "         '155395': 1,\n",
       "         '105528': 1,\n",
       "         '72761': 1,\n",
       "         '1094': 1,\n",
       "         '732911': 1,\n",
       "         '245450': 1,\n",
       "         '155813': 2,\n",
       "         '1417557': 2,\n",
       "         '56645': 1,\n",
       "         '1339121': 1,\n",
       "         '18549': 1,\n",
       "         '2622': 1,\n",
       "         '103570': 1,\n",
       "         '18090': 1,\n",
       "         '1093': 1,\n",
       "         '6923': 1,\n",
       "         '1413586': 1,\n",
       "         '1945877': 1,\n",
       "         '1933546': 2,\n",
       "         '908983': 1,\n",
       "         '1724032': 1,\n",
       "         '376815': 1,\n",
       "         '41078': 1,\n",
       "         '947407': 1,\n",
       "         '53046': 1,\n",
       "         '132365': 1})"
      ]
     },
     "execution_count": 21,
     "metadata": {},
     "output_type": "execute_result"
    }
   ],
   "source": [
    "a"
   ]
  },
  {
   "cell_type": "code",
   "execution_count": null,
   "metadata": {},
   "outputs": [],
   "source": []
  }
 ],
 "metadata": {
  "kernelspec": {
   "display_name": "Python 3",
   "language": "python",
   "name": "python3"
  },
  "language_info": {
   "codemirror_mode": {
    "name": "ipython",
    "version": 3
   },
   "file_extension": ".py",
   "mimetype": "text/x-python",
   "name": "python",
   "nbconvert_exporter": "python",
   "pygments_lexer": "ipython3",
   "version": "3.7.4"
  }
 },
 "nbformat": 4,
 "nbformat_minor": 2
}
